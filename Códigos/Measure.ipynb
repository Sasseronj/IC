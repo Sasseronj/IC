{
  "nbformat": 4,
  "nbformat_minor": 0,
  "metadata": {
    "colab": {
      "provenance": []
    },
    "kernelspec": {
      "name": "python3",
      "display_name": "Python 3"
    },
    "language_info": {
      "name": "python"
    },
    "accelerator": "TPU",
    "gpuClass": "standard"
  },
  "cells": [
    {
      "cell_type": "markdown",
      "source": [
        "# Bibliotecas"
      ],
      "metadata": {
        "id": "tqLn6mo67SyE"
      }
    },
    {
      "cell_type": "code",
      "source": [
        "import os\n",
        "import numpy as np\n",
        "import pandas as pd\n",
        "from keras.backend import var\n",
        "import pickle as pk\n",
        "from keras.datasets import cifar10\n",
        "from keras.datasets import mnist\n",
        "from skimage.util import random_noise\n",
        "import matplotlib.pyplot as plt\n",
        "from sklearn import model_selection\n",
        "from sklearn.linear_model import LogisticRegression\n",
        "\n",
        "import keras.backend as K\n",
        "from keras.layers import Input, Conv2D, MaxPooling2D, Flatten, Reshape, UpSampling2D, Conv2DTranspose\n",
        "from keras.models import Model, load_model\n",
        "from keras.utils import to_categorical\n",
        "from keras.optimizers import SGD\n",
        "\n",
        "from keras.datasets import cifar10\n",
        "from keras.datasets import cifar100\n",
        "\n",
        "import math\n",
        "from statistics import mean\n",
        "\n",
        "import pandas as pd\n",
        "from google.colab import drive\n",
        "from skimage.metrics import structural_similarity as ssim\n",
        "\n",
        "drive.mount('/content/gdrive')\n",
        "\n",
        "_NOISE_FOLDER = '/content/gdrive/MyDrive/IC/Datasets/'\n",
        "_DATASET = 'cifar10'\n",
        "_NOISE_LEVEL = .3"
      ],
      "metadata": {
        "id": "F6keQ2rG0LKk",
        "colab": {
          "base_uri": "https://localhost:8080/"
        },
        "outputId": "08707e30-1c96-45f3-b6c9-29f9601c0013"
      },
      "execution_count": null,
      "outputs": [
        {
          "output_type": "stream",
          "name": "stdout",
          "text": [
            "Drive already mounted at /content/gdrive; to attempt to forcibly remount, call drive.mount(\"/content/gdrive\", force_remount=True).\n"
          ]
        }
      ]
    },
    {
      "cell_type": "code",
      "source": [
        "def rmse(imageA, imageB):\n",
        "\terr = np.sum((imageA.astype(\"float\") - imageB.astype(\"float\")) ** 2)\n",
        "\terr /= float(imageA.shape[0] * imageA.shape[1])\n",
        "\treturn math.sqrt(err)\n",
        "\n",
        "def PSNR(original, compressed):\n",
        "  max_pixel = 255.0\n",
        "  return 20 * math.log10(max_pixel / rmse(compressed, original))\n",
        "\n",
        "def mean_measures(res, Ytest):\n",
        "  var_rmse = []\n",
        "  var_psnr = []\n",
        "  var_ssim = []\n",
        "\n",
        "  for i in range(0, Ytest.shape[0]):\n",
        "    imgOriginal = np.reshape(Ytest[i], Ytest[i].shape[0] * Ytest[i].shape[1] * Ytest[i].shape[2])\n",
        "    imgAniso = np.reshape(res[i], res[i].shape[0] * res[i].shape[1] * res[i].shape[2])\n",
        "\n",
        "    var_psnr.append(PSNR(res[i], Ytest[i]))\n",
        "    var_rmse.append(rmse(Ytest[i], res[i]))\n",
        "    var_ssim.append(ssim(imgOriginal, imgAniso, data_range=imgAniso.max() - imgAniso.min()))\n",
        "\n",
        "  return mean(var_rmse), mean(var_psnr), mean(var_ssim)\n",
        "\n",
        "x = []\n",
        "\n",
        "Xtest = np.load(_NOISE_FOLDER + '%s_Xtest_%s.npy' % (_DATASET ,_NOISE_LEVEL))\n",
        "Ytest = np.load(_NOISE_FOLDER + '%s_Ytest_%s.npy' % (_DATASET ,_NOISE_LEVEL))\n",
        "\n",
        "Xtest = Xtest / 255\n",
        "Ytest = Ytest / 255\n",
        "\n",
        "for metric in ['constant', 'linear', 'log', 'ladder', 'ladderlog']:\n",
        "\n",
        "  model = load_model('/content/cifar10_%s_model.h5' % (metric))\n",
        "\n",
        "  res = model.predict(Xtest)\n",
        "\n",
        "  s = mean_measures(res, Ytest)\n",
        "\n",
        "  x.append(s)\n",
        "\n",
        "print('Done!')"
      ],
      "metadata": {
        "colab": {
          "base_uri": "https://localhost:8080/"
        },
        "id": "Pr0-I3zZMZ0g",
        "outputId": "f2467ddf-0b43-4d13-8752-007a37f19836"
      },
      "execution_count": null,
      "outputs": [
        {
          "output_type": "stream",
          "name": "stdout",
          "text": [
            "938/938 [==============================] - 14s 14ms/step\n",
            "938/938 [==============================] - 8s 9ms/step\n",
            "938/938 [==============================] - 11s 11ms/step\n",
            "938/938 [==============================] - 8s 8ms/step\n",
            "938/938 [==============================] - 10s 11ms/step\n",
            "Done!\n"
          ]
        }
      ]
    },
    {
      "cell_type": "code",
      "source": [
        "data = {\n",
        "    'Metrics': ['RMSE', 'PNSR', 'SSIM'],\n",
        "    'constant': x[0],\n",
        "    'linear': x[1],\n",
        "    'log': x[2],\n",
        "    'ladder': x[3],\n",
        "    'ladderlog': x[4]\n",
        "}\n",
        "\n",
        "df = pd.DataFrame(data)\n",
        "print(df)"
      ],
      "metadata": {
        "id": "12m4iF5f4gwm",
        "colab": {
          "base_uri": "https://localhost:8080/"
        },
        "outputId": "e67524fe-ed7d-4ce6-d689-12c2531abefd"
      },
      "execution_count": null,
      "outputs": [
        {
          "output_type": "stream",
          "name": "stdout",
          "text": [
            "  Metrics   constant     linear        log     ladder  ladderlog\n",
            "0    RMSE   0.260432   0.259667   0.258489   0.259806   0.262341\n",
            "1    PNSR  59.938536  59.968653  60.006560  59.963762  59.881398\n",
            "2    SSIM   0.354729   0.344277   0.353042   0.359138   0.338869\n"
          ]
        }
      ]
    },
    {
      "cell_type": "markdown",
      "source": [
        "# Predict do modelo"
      ],
      "metadata": {
        "id": "vksatR6u7XDC"
      }
    },
    {
      "cell_type": "code",
      "source": [
        "_NOISE = 0.2\n",
        "\n",
        "# Carregando o dataset\n",
        "(_, _), (Xtest, _) = cifar10.load_data()\n",
        "\n",
        "\n",
        "# Normalizando o outpu\n",
        "Ytest = Xtest / 255\n",
        "\n",
        "# Aplicando o ruído na imagem original\n",
        "Xtest = random_noise(Xtest, mode='gaussian', seed=None, clip=True, var=_NOISE)\n",
        "\n",
        "img0 = [0]\n",
        "\n",
        "# Normalização o input\n",
        "Xtest = Xtest / 255\n",
        "\n",
        "# Checando a saída\n",
        "print(Ytest[0][0][0])\n",
        "print(Xtest[0][0][0])"
      ],
      "metadata": {
        "id": "k5StrMrA7N4X",
        "colab": {
          "base_uri": "https://localhost:8080/"
        },
        "outputId": "2a8fa1ff-772c-4548-8077-02bd14f99fce"
      },
      "execution_count": null,
      "outputs": [
        {
          "output_type": "stream",
          "name": "stdout",
          "text": [
            "Downloading data from https://www.cs.toronto.edu/~kriz/cifar-10-python.tar.gz\n",
            "170498071/170498071 [==============================] - 3s 0us/step\n",
            "[0.23137255 0.24313725 0.24705882]\n",
            "[0.00103997 0.00180558 0.00042077]\n"
          ]
        }
      ]
    },
    {
      "cell_type": "code",
      "source": [
        "# Carreando o modelo\n",
        "model = load_model('/content/cifar10_model.h5')\n",
        "\n",
        "# Fazendo as predições\n",
        "res = model.predict(Xtest)\n",
        "\n",
        "# Checando saída\n",
        "print(res[0][0][0])"
      ],
      "metadata": {
        "id": "dD6T4XsC7sUp",
        "colab": {
          "base_uri": "https://localhost:8080/"
        },
        "outputId": "17ad59a7-6967-419d-ed44-439c3dcd5f36"
      },
      "execution_count": null,
      "outputs": [
        {
          "output_type": "stream",
          "name": "stdout",
          "text": [
            "1563/1563 [==============================] - 11s 7ms/step\n",
            "[0.34100318 0.28040016 0.1665861 ]\n"
          ]
        }
      ]
    },
    {
      "cell_type": "code",
      "source": [
        "from PIL import Image\n",
        "\n",
        "img1 = Ytest[0] * 255\n",
        "img1 = np.asarray(img1, dtype = 'int')\n",
        "\n",
        "img2 = res[0] * 255\n",
        "img2 = np.asarray(img2, dtype = 'int')\n",
        "\n",
        "ax = plt.subplot(1, 3, 1)\n",
        "plt.imshow(img0)\n",
        "ax = plt.subplot(1, 3, 2)\n",
        "plt.imshow(img1)\n",
        "ax = plt.subplot(1, 3, 3)\n",
        "plt.imshow(img2)\n",
        "plt.show()"
      ],
      "metadata": {
        "colab": {
          "base_uri": "https://localhost:8080/",
          "height": 209
        },
        "id": "QHyMicmDbU68",
        "outputId": "6f66f575-73e3-4403-81ff-f7cecf8a442e"
      },
      "execution_count": null,
      "outputs": [
        {
          "output_type": "display_data",
          "data": {
            "text/plain": [
              "<Figure size 640x480 with 3 Axes>"
            ],
            "image/png": "[encoded data removed]"
          },
          "metadata": {}
        }
      ]
    }
  ]
}